{
 "cells": [
  {
   "cell_type": "markdown",
   "id": "0872722e",
   "metadata": {},
   "source": [
    "# Importing Libraries"
   ]
  },
  {
   "cell_type": "code",
   "execution_count": 1,
   "id": "80774106",
   "metadata": {},
   "outputs": [],
   "source": [
    "import pandas as pd\n",
    "import numpy as np"
   ]
  },
  {
   "cell_type": "markdown",
   "id": "d413fe36",
   "metadata": {},
   "source": [
    "# Reading Dataset"
   ]
  },
  {
   "cell_type": "code",
   "execution_count": 2,
   "id": "f7c4f0e6",
   "metadata": {},
   "outputs": [
    {
     "name": "stdout",
     "output_type": "stream",
     "text": [
      "  Citation    size In library       Price Editions  Buy\n",
      "0     Some   Small         no  affordable     many   no\n",
      "1     Many     Big         no   expensive      one  yes\n",
      "2     Some     Big     always   expensive      few   no\n",
      "3     Many  Medium         no   expensive     many  yes\n",
      "4     Many   Small         no  affordable     many  yes\n"
     ]
    }
   ],
   "source": [
    "data = pd.read_csv('dset2.csv')\n",
    "print(data)"
   ]
  },
  {
   "cell_type": "markdown",
   "id": "278b66c3",
   "metadata": {},
   "source": [
    "# Printing Dataset"
   ]
  },
  {
   "cell_type": "code",
   "execution_count": 3,
   "id": "e0468b54",
   "metadata": {},
   "outputs": [
    {
     "name": "stdout",
     "output_type": "stream",
     "text": [
      "[['Some' 'Small' 'no' 'affordable' 'many']\n",
      " ['Many' 'Big' 'no' 'expensive' 'one']\n",
      " ['Some' 'Big' 'always' 'expensive' 'few']\n",
      " ['Many' 'Medium' 'no' 'expensive' 'many']\n",
      " ['Many' 'Small' 'no' 'affordable' 'many']]\n"
     ]
    }
   ],
   "source": [
    "concepts = np.array(data)[:,:-1]\n",
    "print(concepts)"
   ]
  },
  {
   "cell_type": "markdown",
   "id": "39e5e37c",
   "metadata": {},
   "source": [
    "# Checking Positive & Negative Values"
   ]
  },
  {
   "cell_type": "code",
   "execution_count": 4,
   "id": "14b99d05",
   "metadata": {},
   "outputs": [
    {
     "name": "stdout",
     "output_type": "stream",
     "text": [
      "['no' 'yes' 'no' 'yes' 'yes']\n"
     ]
    }
   ],
   "source": [
    "target = np.array(data)[:,-1]\n",
    "print(target)"
   ]
  },
  {
   "cell_type": "markdown",
   "id": "935d0888",
   "metadata": {},
   "source": [
    "# Running the code with training data set"
   ]
  },
  {
   "cell_type": "code",
   "execution_count": 5,
   "id": "258376ca",
   "metadata": {},
   "outputs": [],
   "source": [
    "def train(con,tar):\n",
    "    for i,val in enumerate(tar):\n",
    "        if val=='yes':\n",
    "            specific_h = con[i].copy()\n",
    "            break\n",
    "            \n",
    "    for i,val in enumerate(con):\n",
    "        if tar[i]=='yes':\n",
    "            for x in range(len(specific_h)):\n",
    "                if val[x] != specific_h[x]:\n",
    "                    specific_h[x] = '?'\n",
    "                else:\n",
    "                    pass\n",
    "    return specific_h"
   ]
  },
  {
   "cell_type": "markdown",
   "id": "3c6e0d91",
   "metadata": {},
   "source": [
    "# Generating the output"
   ]
  },
  {
   "cell_type": "code",
   "execution_count": 6,
   "id": "eedd6cec",
   "metadata": {},
   "outputs": [
    {
     "name": "stdout",
     "output_type": "stream",
     "text": [
      "['Many' '?' 'no' '?' '?']\n"
     ]
    }
   ],
   "source": [
    "print(train(concepts,target))"
   ]
  }
 ],
 "metadata": {
  "kernelspec": {
   "display_name": "Python 3 (ipykernel)",
   "language": "python",
   "name": "python3"
  },
  "language_info": {
   "codemirror_mode": {
    "name": "ipython",
    "version": 3
   },
   "file_extension": ".py",
   "mimetype": "text/x-python",
   "name": "python",
   "nbconvert_exporter": "python",
   "pygments_lexer": "ipython3",
   "version": "3.9.4"
  }
 },
 "nbformat": 4,
 "nbformat_minor": 5
}
