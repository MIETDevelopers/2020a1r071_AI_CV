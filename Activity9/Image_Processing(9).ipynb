{
  "cells": [
    {
      "attachments": {},
      "cell_type": "markdown",
      "metadata": {
        "id": "ZNfUjFTShWwt"
      },
      "source": [
        "Converting image to gray scale"
      ]
    },
    {
      "cell_type": "code",
      "execution_count": 5,
      "metadata": {
        "id": "ODztJ_CnhZps"
      },
      "outputs": [],
      "source": [
        "import cv2\n",
        "import numpy as np"
      ]
    },
    {
      "cell_type": "code",
      "execution_count": 6,
      "metadata": {
        "id": "105fpN_dhxMc"
      },
      "outputs": [],
      "source": [
        "image = cv2.imread('/Users/himanish/Desktop/Himanish/panda.jpg')\n"
      ]
    },
    {
      "cell_type": "code",
      "execution_count": 7,
      "metadata": {
        "id": "WfORLs_fiTRI"
      },
      "outputs": [],
      "source": [
        "image= cv2.imread('/Users/himanish/Desktop/Himanish/panda.jpg')\n",
        "if(image is not None):\n",
        "    cv2.cvtColor(image, cv2.COLOR_BGR2GRAY)\n"
      ]
    },
    {
      "attachments": {},
      "cell_type": "markdown",
      "metadata": {
        "id": "qA7yx7y9pFnu"
      },
      "source": [
        "Finally, once the user pressed a key, we call the destroyAllWindows function, which will destroy the previously created windows."
      ]
    },
    {
      "cell_type": "code",
      "execution_count": 9,
      "metadata": {
        "id": "kHVdqTcgo-yl"
      },
      "outputs": [],
      "source": [
        "cv2.waitKey(0)\n",
        "cv2.destroyAllWindows()"
      ]
    }
  ],
  "metadata": {
    "colab": {
      "provenance": []
    },
    "kernelspec": {
      "display_name": "Python 3",
      "name": "python3"
    },
    "language_info": {
      "codemirror_mode": {
        "name": "ipython",
        "version": 3
      },
      "file_extension": ".py",
      "mimetype": "text/x-python",
      "name": "python",
      "nbconvert_exporter": "python",
      "pygments_lexer": "ipython3",
      "version": "3.10.2"
    }
  },
  "nbformat": 4,
  "nbformat_minor": 0
}
